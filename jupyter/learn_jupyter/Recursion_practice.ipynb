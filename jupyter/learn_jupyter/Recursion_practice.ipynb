{
 "cells": [
  {
   "cell_type": "markdown",
   "metadata": {},
   "source": [
    "# Let us compute n!"
   ]
  },
  {
   "cell_type": "code",
   "execution_count": null,
   "metadata": {},
   "outputs": [],
   "source": [
    "def factorial(n):\n",
    "    answer = 1\n",
    "    for i in range(1, n+1):\n",
    "        answer *= i\n",
    "    return answer\n",
    "\n",
    "factorial(3)"
   ]
  },
  {
   "cell_type": "code",
   "execution_count": null,
   "metadata": {},
   "outputs": [],
   "source": [
    "# n! = (n-1)! * n\n",
    "def rec_factorial(n):\n",
    "    print(\"Factorial for %d called...\" % n)\n",
    "    if n == 1:\n",
    "        print(\"Returning %d\" % 1)\n",
    "        return 1\n",
    "    else:\n",
    "        tmp = n * rec_factorial(n-1)\n",
    "        print(\"Returning %d\" % tmp)\n",
    "        return tmp\n",
    "\n",
    "rec_factorial(2)"
   ]
  },
  {
   "cell_type": "markdown",
   "metadata": {},
   "source": [
    "# Let us compute a Fibonacci sequence!"
   ]
  },
  {
   "cell_type": "code",
   "execution_count": null,
   "metadata": {},
   "outputs": [],
   "source": [
    "def fib(n):\n",
    "    print(1)\n",
    "    previous2 = 0\n",
    "    previous1 = 1\n",
    "    for x in range(0, n - 1):\n",
    "        number = previous1 + previous2\n",
    "        print(number)\n",
    "        previous2 = previous1\n",
    "        previous1 = number\n",
    "fib(100)"
   ]
  },
  {
   "cell_type": "code",
   "execution_count": null,
   "metadata": {},
   "outputs": [],
   "source": [
    "# F(1) = 1\n",
    "# F(2) = 1\n",
    "# F(n) = F(n-1) + F (n-2)\n",
    "first_numb = 1\n",
    "second_numb = 0\n",
    "def rec_fib(n): \n",
    "    if n != 0:\n",
    "        global first_numb\n",
    "        global second_numb\n",
    "        number = first_numb + second_numb\n",
    "        print(number)\n",
    "        second_numb = first_numb\n",
    "        first_numb = number\n",
    "        rec_fib(n-1)\n",
    "\n",
    "rec_fib(100)"
   ]
  },
  {
   "cell_type": "code",
   "execution_count": null,
   "metadata": {},
   "outputs": [],
   "source": [
    "# F(1) = 1\n",
    "# F(2) = 1\n",
    "# F(n) = F(n-1) + F (n-2)\n",
    "\n",
    "def rec_fib(n):\n",
    "    if n == 1 or n == 2:\n",
    "        return 1\n",
    "    else:\n",
    "        return rec_fib(n-1) + rec_fib(n-2)\n",
    "\n",
    "# for i in range (1, 11):\n",
    "#     print(rec_fib(i))\n",
    "rec_fib(10)"
   ]
  },
  {
   "cell_type": "markdown",
   "metadata": {},
   "source": [
    "# Let us sort Arrays using recurssion"
   ]
  },
  {
   "cell_type": "code",
   "execution_count": 3,
   "metadata": {},
   "outputs": [
    {
     "data": {
      "text/plain": [
       "[18, 9, 33, 16, 64, 58, 61, 49, 27, 13, 63, 4, 50, 56, 1, 58]"
      ]
     },
     "execution_count": 3,
     "metadata": {},
     "output_type": "execute_result"
    }
   ],
   "source": [
    "import random\n",
    "random.seed(1)\n",
    "unsorted = []\n",
    "for x in range(0,16):\n",
    "    unsorted.append(random.randint(1,64))\n",
    "unsorted"
   ]
  },
  {
   "cell_type": "code",
   "execution_count": 4,
   "metadata": {},
   "outputs": [
    {
     "name": "stdout",
     "output_type": "stream",
     "text": [
      "[18, 9, 33, 16, 64, 58, 61, 49, 27, 13, 63, 4, 50, 56, 1, 58]\n",
      "-------Begin------------\n",
      "0 0 1 [18, 9, 33, 16, 64, 58, 61, 49, 27, 13, 63, 4, 50, 56, 1, 58]\n",
      "[9, 18, 33, 16, 64, 58, 61, 49, 27, 13, 63, 4, 50, 56, 1, 58]\n",
      "-------End------------\n",
      "-------Begin------------\n",
      "2 2 3 [9, 18, 33, 16, 64, 58, 61, 49, 27, 13, 63, 4, 50, 56, 1, 58]\n",
      "[9, 18, 16, 33, 64, 58, 61, 49, 27, 13, 63, 4, 50, 56, 1, 58]\n",
      "-------End------------\n",
      "-------Begin------------\n",
      "0 1 3 [9, 18, 16, 33, 64, 58, 61, 49, 27, 13, 63, 4, 50, 56, 1, 58]\n",
      "[9, 16, 18, 33, 64, 58, 61, 49, 27, 13, 63, 4, 50, 56, 1, 58]\n",
      "-------End------------\n",
      "-------Begin------------\n",
      "4 4 5 [9, 16, 18, 33, 64, 58, 61, 49, 27, 13, 63, 4, 50, 56, 1, 58]\n",
      "[9, 16, 18, 33, 58, 64, 61, 49, 27, 13, 63, 4, 50, 56, 1, 58]\n",
      "-------End------------\n",
      "-------Begin------------\n",
      "6 6 7 [9, 16, 18, 33, 58, 64, 61, 49, 27, 13, 63, 4, 50, 56, 1, 58]\n",
      "[9, 16, 18, 33, 58, 64, 49, 61, 27, 13, 63, 4, 50, 56, 1, 58]\n",
      "-------End------------\n",
      "-------Begin------------\n",
      "4 5 7 [9, 16, 18, 33, 58, 64, 49, 61, 27, 13, 63, 4, 50, 56, 1, 58]\n",
      "[9, 16, 18, 33, 49, 58, 61, 64, 27, 13, 63, 4, 50, 56, 1, 58]\n",
      "-------End------------\n",
      "-------Begin------------\n",
      "0 3 7 [9, 16, 18, 33, 49, 58, 61, 64, 27, 13, 63, 4, 50, 56, 1, 58]\n",
      "[9, 16, 18, 33, 49, 58, 61, 64, 27, 13, 63, 4, 50, 56, 1, 58]\n",
      "-------End------------\n",
      "-------Begin------------\n",
      "8 8 9 [9, 16, 18, 33, 49, 58, 61, 64, 27, 13, 63, 4, 50, 56, 1, 58]\n",
      "[9, 16, 18, 33, 49, 58, 61, 64, 13, 27, 63, 4, 50, 56, 1, 58]\n",
      "-------End------------\n",
      "-------Begin------------\n",
      "10 10 11 [9, 16, 18, 33, 49, 58, 61, 64, 13, 27, 63, 4, 50, 56, 1, 58]\n",
      "[9, 16, 18, 33, 49, 58, 61, 64, 13, 27, 4, 63, 50, 56, 1, 58]\n",
      "-------End------------\n",
      "-------Begin------------\n",
      "8 9 11 [9, 16, 18, 33, 49, 58, 61, 64, 13, 27, 4, 63, 50, 56, 1, 58]\n",
      "[9, 16, 18, 33, 49, 58, 61, 64, 4, 13, 27, 63, 50, 56, 1, 58]\n",
      "-------End------------\n",
      "-------Begin------------\n",
      "12 12 13 [9, 16, 18, 33, 49, 58, 61, 64, 4, 13, 27, 63, 50, 56, 1, 58]\n",
      "[9, 16, 18, 33, 49, 58, 61, 64, 4, 13, 27, 63, 50, 56, 1, 58]\n",
      "-------End------------\n",
      "-------Begin------------\n",
      "14 14 15 [9, 16, 18, 33, 49, 58, 61, 64, 4, 13, 27, 63, 50, 56, 1, 58]\n",
      "[9, 16, 18, 33, 49, 58, 61, 64, 4, 13, 27, 63, 50, 56, 1, 58]\n",
      "-------End------------\n",
      "-------Begin------------\n",
      "12 13 15 [9, 16, 18, 33, 49, 58, 61, 64, 4, 13, 27, 63, 50, 56, 1, 58]\n",
      "[9, 16, 18, 33, 49, 58, 61, 64, 4, 13, 27, 63, 1, 50, 56, 58]\n",
      "-------End------------\n",
      "-------Begin------------\n",
      "8 11 15 [9, 16, 18, 33, 49, 58, 61, 64, 4, 13, 27, 63, 1, 50, 56, 58]\n",
      "[9, 16, 18, 33, 49, 58, 61, 64, 1, 4, 13, 27, 50, 56, 58, 63]\n",
      "-------End------------\n",
      "-------Begin------------\n",
      "0 7 15 [9, 16, 18, 33, 49, 58, 61, 64, 1, 4, 13, 27, 50, 56, 58, 63]\n",
      "[1, 4, 9, 13, 16, 18, 27, 33, 49, 50, 56, 58, 58, 61, 63, 64]\n",
      "-------End------------\n",
      "[1, 4, 9, 13, 16, 18, 27, 33, 49, 50, 56, 58, 58, 61, 63, 64]\n"
     ]
    }
   ],
   "source": [
    "# Work with Akash to use merge sort to sort this list.\n",
    "def merge(start, middle, end, listy):\n",
    "    print(\"-------Begin------------\")\n",
    "    print(start, middle, end, listy)\n",
    "    pointer1 = start\n",
    "    pointer2 = middle + 1\n",
    "    copy_list = []\n",
    "\n",
    "    while pointer1 <= middle or pointer2 <= end:\n",
    "        if pointer1 <= middle and pointer2 <= end:\n",
    "            if (listy[pointer1] < listy[pointer2]):\n",
    "                copy_list.append(listy[pointer1])\n",
    "                pointer1 += 1\n",
    "            else:\n",
    "                copy_list.append(listy[pointer2])\n",
    "                pointer2 += 1   \n",
    "        if pointer1 <= middle and pointer2 > end:\n",
    "            copy_list.append(listy[pointer1])\n",
    "            pointer1 += 1\n",
    "        if pointer1 > middle and pointer2 <= end:\n",
    "            copy_list.append(listy[pointer2])\n",
    "            pointer2 += 1    \n",
    "    \n",
    "    for x in range(start, end+1):\n",
    "        listy[x] = copy_list[x - start]\n",
    "    print(listy)\n",
    "    print(\"-------End------------\")\n",
    "    return listy\n",
    "\n",
    "\n",
    "def merge_sort(start, end, listy):\n",
    "    #print(start, end, listy)\n",
    "    middle = (start + end) // 2\n",
    "    if (start == end):\n",
    "        return listy\n",
    "    \n",
    "    listy = merge_sort(start, middle, listy)\n",
    "    listy = merge_sort(middle+1, end, listy)\n",
    "    listy = merge(start, middle, end, listy)\n",
    "    return listy\n",
    "print(unsorted)\n",
    "print(merge_sort(0, len(unsorted) - 1, unsorted))\n"
   ]
  },
  {
   "cell_type": "code",
   "execution_count": null,
   "metadata": {},
   "outputs": [],
   "source": []
  }
 ],
 "metadata": {
  "kernelspec": {
   "display_name": "Python 3",
   "language": "python",
   "name": "python3"
  },
  "language_info": {
   "codemirror_mode": {
    "name": "ipython",
    "version": 3
   },
   "file_extension": ".py",
   "mimetype": "text/x-python",
   "name": "python",
   "nbconvert_exporter": "python",
   "pygments_lexer": "ipython3",
   "version": "3.7.3"
  }
 },
 "nbformat": 4,
 "nbformat_minor": 2
}
