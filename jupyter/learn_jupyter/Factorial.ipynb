{
 "cells": [
  {
   "cell_type": "code",
   "execution_count": 32,
   "metadata": {},
   "outputs": [],
   "source": [
    "def factorial(n):\n",
    "    print(\"factorial called with n: \" + str(n))\n",
    "    if n == 1 or n == 0:\n",
    "        return 1\n",
    "    else:\n",
    "        return n * factorial(n-1)"
   ]
  },
  {
   "cell_type": "code",
   "execution_count": 33,
   "metadata": {},
   "outputs": [
    {
     "name": "stdout",
     "output_type": "stream",
     "text": [
      "factorial called with n: 1\n"
     ]
    },
    {
     "data": {
      "text/plain": [
       "1"
      ]
     },
     "execution_count": 33,
     "metadata": {},
     "output_type": "execute_result"
    }
   ],
   "source": [
    "factorial(1)"
   ]
  },
  {
   "cell_type": "code",
   "execution_count": 34,
   "metadata": {},
   "outputs": [
    {
     "name": "stdout",
     "output_type": "stream",
     "text": [
      "factorial called with n: 2\n",
      "factorial called with n: 1\n"
     ]
    },
    {
     "data": {
      "text/plain": [
       "2"
      ]
     },
     "execution_count": 34,
     "metadata": {},
     "output_type": "execute_result"
    }
   ],
   "source": [
    "factorial(2)"
   ]
  },
  {
   "cell_type": "code",
   "execution_count": 35,
   "metadata": {},
   "outputs": [
    {
     "name": "stdout",
     "output_type": "stream",
     "text": [
      "factorial called with n: 8\n",
      "factorial called with n: 7\n",
      "factorial called with n: 6\n",
      "factorial called with n: 5\n",
      "factorial called with n: 4\n",
      "factorial called with n: 3\n",
      "factorial called with n: 2\n",
      "factorial called with n: 1\n"
     ]
    },
    {
     "data": {
      "text/plain": [
       "40320"
      ]
     },
     "execution_count": 35,
     "metadata": {},
     "output_type": "execute_result"
    }
   ],
   "source": [
    "factorial(8)"
   ]
  },
  {
   "cell_type": "code",
   "execution_count": 36,
   "metadata": {},
   "outputs": [
    {
     "name": "stdout",
     "output_type": "stream",
     "text": [
      "factorial called with n: 0\n",
      "1\n",
      "factorial called with n: 1\n",
      "1\n",
      "factorial called with n: 2\n",
      "factorial called with n: 1\n",
      "2\n",
      "factorial called with n: 3\n",
      "factorial called with n: 2\n",
      "factorial called with n: 1\n",
      "6\n",
      "factorial called with n: 4\n",
      "factorial called with n: 3\n",
      "factorial called with n: 2\n",
      "factorial called with n: 1\n",
      "24\n",
      "factorial called with n: 5\n",
      "factorial called with n: 4\n",
      "factorial called with n: 3\n",
      "factorial called with n: 2\n",
      "factorial called with n: 1\n",
      "120\n",
      "factorial called with n: 6\n",
      "factorial called with n: 5\n",
      "factorial called with n: 4\n",
      "factorial called with n: 3\n",
      "factorial called with n: 2\n",
      "factorial called with n: 1\n",
      "720\n"
     ]
    }
   ],
   "source": [
    "for x in range(7):\n",
    "    print(factorial(x))\n",
    "    "
   ]
  },
  {
   "cell_type": "code",
   "execution_count": null,
   "metadata": {},
   "outputs": [],
   "source": []
  }
 ],
 "metadata": {
  "kernelspec": {
   "display_name": "Python 3",
   "language": "python",
   "name": "python3"
  },
  "language_info": {
   "codemirror_mode": {
    "name": "ipython",
    "version": 3
   },
   "file_extension": ".py",
   "mimetype": "text/x-python",
   "name": "python",
   "nbconvert_exporter": "python",
   "pygments_lexer": "ipython3",
   "version": "3.7.3"
  }
 },
 "nbformat": 4,
 "nbformat_minor": 2
}
