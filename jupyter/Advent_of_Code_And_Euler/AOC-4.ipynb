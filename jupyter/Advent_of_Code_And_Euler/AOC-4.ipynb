{
 "cells": [
  {
   "cell_type": "code",
   "execution_count": 1,
   "metadata": {},
   "outputs": [],
   "source": [
    "dict_guard_total_sleep_time = {}\n",
    "guard_log = {}\n",
    "current_gid = None\n",
    "current_sleep_time = None\n",
    "sleepiest_guard = None\n",
    "\n",
    "\n",
    "def begins_shift(gid):\n",
    "    global current_gid\n",
    "    #print(\"begin shift %d\" % gid)\n",
    "    if not (gid in dict_guard_total_sleep_time):\n",
    "        dict_guard_total_sleep_time[gid] = 0\n",
    "        guard_log[gid] = [0 for minute in range(0,60)]\n",
    "    current_gid = gid\n",
    "\n",
    "def falls_asleep(time):\n",
    "    global current_sleep_time\n",
    "    #print(\"falls asleep %d\" % time)\n",
    "    current_sleep_time = time\n",
    "    \n",
    "def wakes_up(time):\n",
    "    #print(\"wakes up %d\" % time)\n",
    "    dict_guard_total_sleep_time[current_gid] = dict_guard_total_sleep_time[current_gid] + time - current_sleep_time\n",
    "    for x in range(current_sleep_time, time):                    \n",
    "        (guard_log[current_gid])[x] += 1 \n",
    "    \n",
    "def find_sleepiest_guard():\n",
    "    #print(dict_guard_total_sleep_time)\n",
    "    return max(dict_guard_total_sleep_time, key=lambda k: dict_guard_total_sleep_time[k])\n",
    "\n",
    "def find_max_sleep_minute_for_each_guard():\n",
    "    guard_minute_slept_val = {}\n",
    "    for key, value in guard_log.items():\n",
    "        guard_minute_slept_val[key] = max(value)\n",
    "    guilty_guard = max(guard_minute_slept_val, key=lambda k: guard_minute_slept_val[k])\n",
    "    log = guard_log[guilty_guard]\n",
    "    return [guilty_guard, log.index(max(log))]\n",
    "    "
   ]
  },
  {
   "cell_type": "code",
   "execution_count": 2,
   "metadata": {},
   "outputs": [],
   "source": [
    "import re\n",
    "\n",
    "file = open(\"./AOC-4.txt\")\n",
    "lines = [line.rstrip() for line in file]\n",
    "lines.sort() "
   ]
  },
  {
   "cell_type": "code",
   "execution_count": 3,
   "metadata": {},
   "outputs": [
    {
     "name": "stdout",
     "output_type": "stream",
     "text": [
      "146622\n",
      "31848\n"
     ]
    }
   ],
   "source": [
    "for line in lines:\n",
    "    guard = re.match(r'.+Guard #(\\d+)', line)\n",
    "    asleep = re.match(r'.+:(\\d+)\\] falls', line)\n",
    "    awake = re.match(r'.+:(\\d+)\\] wakes', line)\n",
    "    if guard:\n",
    "        begins_shift(int(guard.group(1)))\n",
    "    elif asleep:\n",
    "        falls_asleep(int(asleep.group(1)))   \n",
    "    elif awake:\n",
    "        wakes_up(int(awake.group(1)))\n",
    "    \n",
    "sleepiest_guard = find_sleepiest_guard()\n",
    "guard, minute = find_max_sleep_minute_for_each_guard()\n",
    "\n",
    "\n",
    "print(guard_log[sleepiest_guard].index(max(guard_log[sleepiest_guard])) * sleepiest_guard)\n",
    "print(guard * minute)\n"
   ]
  },
  {
   "cell_type": "code",
   "execution_count": 7,
   "metadata": {},
   "outputs": [
    {
     "data": {
      "text/plain": [
       "19"
      ]
     },
     "execution_count": 7,
     "metadata": {},
     "output_type": "execute_result"
    }
   ],
   "source": [
    "#everything beyond this point is obsolete\n",
    "9 + 10"
   ]
  },
  {
   "cell_type": "code",
   "execution_count": null,
   "metadata": {},
   "outputs": [],
   "source": [
    "minutes = [0 for minute in range(0,60)]\n",
    "process_sleep = False\n",
    "for guard_ in dict_guard_total_sleep_time:\n",
    "    dict_guard_total_sleep_time[guard_] = minutes.copy()\n",
    "    sleepiest_guard = guard_\n",
    "    process_sleep = False\n",
    "    for line in lines:\n",
    "        guard = re.match(r'.+Guard #(\\d+)', line)\n",
    "        asleep = re.match(r'.+:(\\d+)\\] falls', line)\n",
    "        awake = re.match(r'.+:(\\d+)\\] wakes', line)\n",
    "        if guard:\n",
    "            if sleepiest_guard == int(guard.group(1)):\n",
    "                process_sleep = True\n",
    "            else:\n",
    "                process_sleep = False\n",
    "        if asleep:\n",
    "            if process_sleep:\n",
    "                current_sleep_time = int(asleep.group(1))\n",
    "        if awake:\n",
    "            if process_sleep:\n",
    "                awake_time = int(awake.group(1))\n",
    "                for x in range(current_sleep_time, awake_time):                    \n",
    "                    #minutes[x] = minutes[x] + 1\n",
    "                    dict_guard_total_sleep_time[[guard_][x]] = dict_guard_total_sleep_time[[guard_][x] + 1] "
   ]
  },
  {
   "cell_type": "code",
   "execution_count": null,
   "metadata": {},
   "outputs": [],
   "source": [
    "## Understand how lambda works and how to get the key of the max value in a Python dictionary\n",
    "my_dict =  {'a':1, 'z':2, 'c':3, 'd':4, 'e':5, 'f':6, 'g':7, 'h':8}\n",
    "\n",
    "def mymax(mykey):\n",
    "    return my_dict[mykey]\n",
    "\n",
    "max(my_dict, key=lambda k: my_dict[k])\n",
    "max(my_dict, key=mymax)"
   ]
  },
  {
   "cell_type": "code",
   "execution_count": null,
   "metadata": {},
   "outputs": [],
   "source": [
    "print(sleepiest_guard)"
   ]
  },
  {
   "cell_type": "code",
   "execution_count": null,
   "metadata": {},
   "outputs": [],
   "source": [
    "dict_guard_total_sleep_time[3323[3]] = dict_guard_total_sleep_time[3323[3]] + 1"
   ]
  },
  {
   "cell_type": "code",
   "execution_count": null,
   "metadata": {},
   "outputs": [],
   "source": [
    "guard_ = 1637\n",
    "x = 2\n",
    "dict_guard_total_sleep_time[1637] #= [dict_guard_total_sleep_time[[guard_][x + 1]] \n",
    "print(dict_guard_total_sleep_time[guard_][x])"
   ]
  },
  {
   "cell_type": "code",
   "execution_count": null,
   "metadata": {},
   "outputs": [],
   "source": [
    "\n",
    "for _guard in dict_guard_total_sleep_time:\n",
    "    dict_guard_total_sleep_time[_guard] = [0 for minute in range(0,60)]\n",
    "    \n",
    "dict_guard_total_sleep_time_copy = dict_guard_total_sleep_time.copy()\n",
    "current_guard = 0\n",
    "for line in lines:\n",
    "    guard = re.match(r'.+Guard #(\\d+)', line)\n",
    "    asleep = re.match(r'.+:(\\d+)\\] falls', line)\n",
    "    awake = re.match(r'.+:(\\d+)\\] wakes', line)\n",
    "    if guard:\n",
    "        current_guard = int(guard.group(1))\n",
    "    if asleep:\n",
    "        current_sleep_time = int(asleep.group(1))\n",
    "    if awake:\n",
    "        awake_time = int(awake.group(1))\n",
    "        for x in range(current_sleep_time, awake_time):\n",
    "            minutes = dict_guard_total_sleep_time[current_guard]\n",
    "            minutes[x] = minutes[x] + 1\n",
    "\n",
    "for _guard_ in dict_guard_total_sleep_time:\n",
    "    dict_guard_total_sleep_time_copy[_guard_] = max(dict_guard_total_sleep_time[_guard_])\n",
    "                    \n"
   ]
  },
  {
   "cell_type": "code",
   "execution_count": null,
   "metadata": {},
   "outputs": [],
   "source": [
    "top_values = max(dict_guard_total_sleep_time_copy.values())"
   ]
  },
  {
   "cell_type": "code",
   "execution_count": null,
   "metadata": {},
   "outputs": [],
   "source": [
    "print(dict_guard_total_sleep_time[1327])"
   ]
  },
  {
   "cell_type": "code",
   "execution_count": null,
   "metadata": {},
   "outputs": [],
   "source": [
    "# dict_guard_total_sleep_time_copy.keys() \n",
    "[number for number, numb in dict_guard_total_sleep_time_copy.items() if numb == top_values]"
   ]
  },
  {
   "cell_type": "code",
   "execution_count": null,
   "metadata": {},
   "outputs": [],
   "source": [
    "the_list = dict_guard_total_sleep_time[1327]\n",
    "print(the_list)"
   ]
  },
  {
   "cell_type": "code",
   "execution_count": null,
   "metadata": {},
   "outputs": [],
   "source": [
    "INDEXeEeee = 0\n",
    "for numb in the_list:\n",
    "    if numb == top_values:\n",
    "        print(INDEXeEeee)\n",
    "    INDEXeEeee = INDEXeEeee + 1"
   ]
  },
  {
   "cell_type": "code",
   "execution_count": null,
   "metadata": {},
   "outputs": [],
   "source": [
    "print(24)\n",
    "print([number for number, numb in dict_guard_total_sleep_time_copy.items() if numb == top_values])"
   ]
  },
  {
   "cell_type": "code",
   "execution_count": null,
   "metadata": {},
   "outputs": [],
   "source": [
    "24*1327\n"
   ]
  },
  {
   "cell_type": "code",
   "execution_count": 8,
   "metadata": {},
   "outputs": [],
   "source": [
    "for line in lines:\n",
    "    guard = re.match(r'.+Guard #(\\d+)', line)\n",
    "    asleep = re.match(r'.+:(\\d+)\\] falls', line)\n",
    "    awake = re.match(r'.+:(\\d+)\\] wakes', line)\n",
    "    if guard:\n",
    "        begins_shift(int(guard.group(1)))\n",
    "    elif asleep:\n",
    "        falls_asleep(int(asleep.group(1)))   \n",
    "    elif awake:\n",
    "        wakes_up(int(awake.group(1)))\n",
    "    \n",
    "sleepiest_guard = find_sleepiest_guard()"
   ]
  }
 ],
 "metadata": {
  "kernelspec": {
   "display_name": "Python 3",
   "language": "python",
   "name": "python3"
  },
  "language_info": {
   "codemirror_mode": {
    "name": "ipython",
    "version": 3
   },
   "file_extension": ".py",
   "mimetype": "text/x-python",
   "name": "python",
   "nbconvert_exporter": "python",
   "pygments_lexer": "ipython3",
   "version": "3.7.3"
  }
 },
 "nbformat": 4,
 "nbformat_minor": 2
}
