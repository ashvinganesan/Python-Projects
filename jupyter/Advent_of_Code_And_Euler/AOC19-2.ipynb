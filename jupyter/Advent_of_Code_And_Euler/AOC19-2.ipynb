{
 "cells": [
  {
   "cell_type": "code",
   "execution_count": null,
   "metadata": {},
   "outputs": [],
   "source": [
    "list_of_nums = [1,0,0,3,1,1,2,3,1,3,4,3,1,5,0,3,2,1,13,19,1,10,19,23,2,9,23,27,1,6,27,31,1,10,31,35,1,35,10,39,1,9,39,43,1,6,43,47,1,10,47,51,1,6,51,55,2,13,55,59,1,6,59,63,1,10,63,67,2,67,9,71,1,71,5,75,1,13,75,79,2,79,13,83,1,83,9,87,2,10,87,91,2,91,6,95,2,13,95,99,1,10,99,103,2,9,103,107,1,107,5,111,2,9,111,115,1,5,115,119,1,9,119,123,2,123,6,127,1,5,127,131,1,10,131,135,1,135,6,139,1,139,5,143,1,143,9,147,1,5,147,151,1,151,13,155,1,5,155,159,1,2,159,163,1,163,6,0,99,2,0,14,0]\n",
    "print(list_of_nums)\n",
    "element = 0\n",
    "while True:\n",
    "    op_1_address = list_of_nums[element+1]\n",
    "    op_2_address = list_of_nums[element+2]\n",
    "    op_3_address = list_of_nums[element+3]\n",
    "    print(list_of_nums[element], op_1_address, op_2_address, op_3_address)\n",
    "    \n",
    "    if(list_of_nums [element] == 1):\n",
    "        list_of_nums[op_3_address] = list_of_nums[op_1_address] + list_of_nums[op_2_address]\n",
    "    elif(list_of_nums [element] == 2):\n",
    "        list_of_nums[op_3_address] = list_of_nums[op_1_address] * list_of_nums[op_2_address]\n",
    "    elif(list_of_nums [element] == 99):\n",
    "        break\n",
    "    else:\n",
    "        print(\"BIG ERRORS :(\" + str(element))\n",
    "        break\n",
    "        \n",
    "    element+=4\n"
   ]
  },
  {
   "cell_type": "code",
   "execution_count": null,
   "metadata": {},
   "outputs": [],
   "source": [
    "print(list_of_nums)"
   ]
  },
  {
   "cell_type": "code",
   "execution_count": 3,
   "metadata": {},
   "outputs": [],
   "source": [
    "list_of_nums = [1,0,0,3,1,1,2,3,1,3,4,3,1,5,0,3,2,1,13,19,1,10,19,23,2,9,23,27,1,6,27,31,1,10,31,35,1,35,10,39,1,9,39,43,1,6,43,47,1,10,47,51,1,6,51,55,2,13,55,59,1,6,59,63,1,10,63,67,2,67,9,71,1,71,5,75,1,13,75,79,2,79,13,83,1,83,9,87,2,10,87,91,2,91,6,95,2,13,95,99,1,10,99,103,2,9,103,107,1,107,5,111,2,9,111,115,1,5,115,119,1,9,119,123,2,123,6,127,1,5,127,131,1,10,131,135,1,135,6,139,1,139,5,143,1,143,9,147,1,5,147,151,1,151,13,155,1,5,155,159,1,2,159,163,1,163,6,0,99,2,0,14,0]\n"
   ]
  },
  {
   "cell_type": "code",
   "execution_count": 2,
   "metadata": {},
   "outputs": [],
   "source": [
    "##part 2\n",
    "def thingyy(list_of_nums):\n",
    "    element = 0\n",
    "    while True:\n",
    "        op_1_address = list_of_nums[element+1]\n",
    "        op_2_address = list_of_nums[element+2]\n",
    "        op_3_address = list_of_nums[element+3]\n",
    "        #print(list_of_nums[element], op_1_address, op_2_address, op_3_address)\n",
    "    \n",
    "        if(list_of_nums [element] == 1):\n",
    "            list_of_nums[op_3_address] = list_of_nums[op_1_address] + list_of_nums[op_2_address]\n",
    "        elif(list_of_nums [element] == 2):\n",
    "            list_of_nums[op_3_address] = list_of_nums[op_1_address] * list_of_nums[op_2_address]\n",
    "        elif(list_of_nums [element] == 99):\n",
    "            break\n",
    "        else:\n",
    "            print(\"BIG ERRORS :(\" + str(element))\n",
    "            break\n",
    "        \n",
    "        element+=4\n",
    "        \n",
    "def get_list_of_nums():\n",
    "    list_of_nums = [1,0,0,3,1,1,2,3,1,3,4,3,1,5,0,3,2,1,13,19,1,10,19,23,2,9,23,27,1,6,27,31,1,10,31,35,1,35,10,39,1,9,39,43,1,6,43,47,1,10,47,51,1,6,51,55,2,13,55,59,1,6,59,63,1,10,63,67,2,67,9,71,1,71,5,75,1,13,75,79,2,79,13,83,1,83,9,87,2,10,87,91,2,91,6,95,2,13,95,99,1,10,99,103,2,9,103,107,1,107,5,111,2,9,111,115,1,5,115,119,1,9,119,123,2,123,6,127,1,5,127,131,1,10,131,135,1,135,6,139,1,139,5,143,1,143,9,147,1,5,147,151,1,151,13,155,1,5,155,159,1,2,159,163,1,163,6,0,99,2,0,14,0]\n",
    "    return list_of_nums"
   ]
  },
  {
   "cell_type": "code",
   "execution_count": 3,
   "metadata": {},
   "outputs": [
    {
     "name": "stdout",
     "output_type": "stream",
     "text": [
      "The Answer is: 2254\n"
     ]
    }
   ],
   "source": [
    "MATCH = 19690720\n",
    "for noun in range(0,99):\n",
    "    for verb in range(0,99):\n",
    "        list_of_nums = get_list_of_nums()\n",
    "        list_of_nums[1] = noun\n",
    "        list_of_nums[2] = verb\n",
    "        thingyy(list_of_nums)\n",
    "        if(list_of_nums[0] == MATCH):\n",
    "            print(\"The Answer is: \"+ str(100 * noun + verb))\n",
    "            break\n",
    "\n",
    "\n",
    "    "
   ]
  },
  {
   "cell_type": "code",
   "execution_count": null,
   "metadata": {},
   "outputs": [],
   "source": []
  }
 ],
 "metadata": {
  "kernelspec": {
   "display_name": "Python 3",
   "language": "python",
   "name": "python3"
  },
  "language_info": {
   "codemirror_mode": {
    "name": "ipython",
    "version": 3
   },
   "file_extension": ".py",
   "mimetype": "text/x-python",
   "name": "python",
   "nbconvert_exporter": "python",
   "pygments_lexer": "ipython3",
   "version": "3.7.3"
  }
 },
 "nbformat": 4,
 "nbformat_minor": 2
}
