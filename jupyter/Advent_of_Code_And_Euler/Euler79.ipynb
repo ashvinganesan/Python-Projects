{
 "cells": [
  {
   "cell_type": "code",
   "execution_count": 1,
   "metadata": {},
   "outputs": [],
   "source": [
    "\n",
    "with open(\"p079_keylog.txt\") as file:     \n",
    "    data = file.readlines()\n"
   ]
  },
  {
   "cell_type": "code",
   "execution_count": 2,
   "metadata": {},
   "outputs": [],
   "source": [
    "data = [x.strip() for x in data]\n",
    "digits  = []\n",
    "\n",
    "candidates = {}"
   ]
  },
  {
   "cell_type": "code",
   "execution_count": 3,
   "metadata": {},
   "outputs": [],
   "source": [
    "\n",
    "def findLast():\n",
    "    for item in data:\n",
    "        if(item[0] != \"*\"):\n",
    "            candidates[int(item[0])] = True\n",
    "\n",
    "    for item in data:\n",
    "        if(item[1] != \"*\"):\n",
    "            candidates[int(item[1])] = False\n",
    "        if(item[2] != \"*\"):\n",
    "            candidates[int(item[2])] = False\n",
    "    for item in candidates:\n",
    "        if candidates[item]: \n",
    "            print(\"item is being added: \" + str(item))\n",
    "            digits.append(item)\n",
    "    for num, item in enumerate(data, 0):\n",
    "        if(item[0] != \"*\"):\n",
    "            if(int(item[0]) == digits[len(digits)-1]):\n",
    "                data[num] = str(item[1]+item[2]+\"*\")\n",
    "    candidates[digits[len(digits)-1]] = False"
   ]
  },
  {
   "cell_type": "code",
   "execution_count": 4,
   "metadata": {},
   "outputs": [
    {
     "data": {
      "text/plain": [
       "{}"
      ]
     },
     "execution_count": 4,
     "metadata": {},
     "output_type": "execute_result"
    }
   ],
   "source": [
    "candidates"
   ]
  },
  {
   "cell_type": "code",
   "execution_count": 5,
   "metadata": {},
   "outputs": [
    {
     "name": "stdout",
     "output_type": "stream",
     "text": [
      "item is being added: 7\n",
      "item is being added: 3\n",
      "item is being added: 1\n",
      "item is being added: 6\n",
      "item is being added: 2\n",
      "item is being added: 8\n",
      "item is being added: 9\n",
      "item is being added: 0\n"
     ]
    }
   ],
   "source": [
    "\n",
    "for x in range(10):\n",
    "    findLast()"
   ]
  },
  {
   "cell_type": "code",
   "execution_count": 6,
   "metadata": {},
   "outputs": [
    {
     "data": {
      "text/plain": [
       "[7, 3, 1, 6, 2, 8, 9, 0]"
      ]
     },
     "execution_count": 6,
     "metadata": {},
     "output_type": "execute_result"
    }
   ],
   "source": [
    "digits"
   ]
  },
  {
   "cell_type": "code",
   "execution_count": null,
   "metadata": {},
   "outputs": [],
   "source": [
    "candidates"
   ]
  },
  {
   "cell_type": "code",
   "execution_count": null,
   "metadata": {},
   "outputs": [],
   "source": [
    "for key in candidates:\n",
    "    print(key)\n",
    "    print(candidates[key])\n",
    "    if candidates[key]:\n",
    "        print(\"True\")"
   ]
  },
  {
   "cell_type": "code",
   "execution_count": null,
   "metadata": {},
   "outputs": [],
   "source": []
  }
 ],
 "metadata": {
  "kernelspec": {
   "display_name": "Python 3",
   "language": "python",
   "name": "python3"
  },
  "language_info": {
   "codemirror_mode": {
    "name": "ipython",
    "version": 3
   },
   "file_extension": ".py",
   "mimetype": "text/x-python",
   "name": "python",
   "nbconvert_exporter": "python",
   "pygments_lexer": "ipython3",
   "version": "3.7.3"
  }
 },
 "nbformat": 4,
 "nbformat_minor": 2
}
