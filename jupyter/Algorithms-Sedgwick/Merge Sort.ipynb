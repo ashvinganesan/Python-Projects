{
 "cells": [
  {
   "cell_type": "code",
   "execution_count": 2,
   "metadata": {},
   "outputs": [
    {
     "data": {
      "text/plain": [
       "[88, 89, 42, 57, 14, 25, 82, 76, 30, 3, 100, 2, 95, 56, 17, 42]"
      ]
     },
     "execution_count": 2,
     "metadata": {},
     "output_type": "execute_result"
    }
   ],
   "source": [
    "import random\n",
    "import math\n",
    "unsorted = [random.randint(0, 100) for x in range(0,16)] \n",
    "unsorted"
   ]
  },
  {
   "cell_type": "code",
   "execution_count": 27,
   "metadata": {},
   "outputs": [],
   "source": [
    "def merge_sort_start(array):\n",
    "    auxilory = array.copy()\n",
    "    low = 0\n",
    "    high = len(array) - 1\n",
    "    merge_sort(array, auxilory, low, high)\n",
    "      \n",
    "def merge_sort(array, auxilory, low, high):\n",
    "    mid = int((low + high)/2)\n",
    "    if low == mid:\n",
    "        return\n",
    "    \n",
    "    merge_sort(array, auxilory, low, mid)\n",
    "    merge_sort(array, auxilory, mid+1, high)\n",
    "    merge(array, auxilory, low, mid, high)\n",
    "\n",
    "def merge(array, auxilory, low, mid, high):\n",
    "    first = low\n",
    "    second = mid+1\n",
    "\n",
    "    #for index in range(low, high+1):\n",
    "     #   auxilory[index] = array[index]\n",
    "    for index in range(low, len(array)):\n",
    "        auxilory[index] = array[index]\n",
    "    \n",
    "    for index in range(low, high+1):\n",
    "        if first > mid and second > high:\n",
    "            return\n",
    "        elif first > mid:\n",
    "            array[index] = auxilory[second]\n",
    "            second += 1;\n",
    "        elif second > high:\n",
    "            array[index] = auxilory[first]\n",
    "            first += 1;   \n",
    "        elif auxilory[first] < auxilory[second]:\n",
    "            array[index] = auxilory[first]\n",
    "            first +=1\n",
    "        else:\n",
    "            array[index] = auxilory[second]\n",
    "            second += 1;\n",
    "        \n",
    "def binary_search(array, i, j, key):\n",
    "    index = (i+j)//2\n",
    "\n",
    "    if i == index:\n",
    "        if key == (array[i]):\n",
    "            return(array[i])\n",
    "        else:\n",
    "            return None\n",
    "    index = (i+j)//2\n",
    "    if (array[index]) == key:\n",
    "        return (array[index])\n",
    "    elif(array[index]) > key:\n",
    "        return(binary_search(array, i, index, key))\n",
    "    else:\n",
    "        return(binary_search(array, index, j, key))\n",
    "    "
   ]
  },
  {
   "cell_type": "code",
   "execution_count": 25,
   "metadata": {},
   "outputs": [],
   "source": [
    "def merge_bottoms_up_times_two(array):\n",
    "    stride = 1\n",
    "    scratch = array.copy()\n",
    "    while(stride < 2*len(array)):        \n",
    "        for x in range(0, math.ceil(len(array)/(stride * 2))):\n",
    "            low = stride * 2 * x\n",
    "            high = min(low + stride*2-1, len(array) - 1)\n",
    "            mid = low + stride -1\n",
    "            #print(low, mid, high)\n",
    "            merge(array, scratch, low, mid, high)\n",
    "        stride *= 2\n"
   ]
  },
  {
   "cell_type": "code",
   "execution_count": 8,
   "metadata": {},
   "outputs": [
    {
     "name": "stdout",
     "output_type": "stream",
     "text": [
      "[1018, 516, 404, 173, 354, 770, 296, 1016, 70, 183, 491, 577, 441, 672, 354, 731, 769, 637, 0, 913, 490, 205, 532, 971, 305, 310, 213, 1010, 820, 289, 322]\n",
      "[0, 70, 183, 213, 296, 305, 310, 322, 354, 354, 404, 173, 441, 490, 205, 491, 532, 577, 672, 731, 769, 637, 770, 820, 289, 913, 971, 1010, 1016, 1018, 516]\n"
     ]
    }
   ],
   "source": [
    "unsorted = [random.randint(0, 1024) for x in range(0,31)] \n",
    "print(unsorted)\n",
    "merge_sort_start(unsorted)\n",
    "print(unsorted)\n"
   ]
  },
  {
   "cell_type": "code",
   "execution_count": 30,
   "metadata": {},
   "outputs": [
    {
     "name": "stdout",
     "output_type": "stream",
     "text": [
      "296\n"
     ]
    }
   ],
   "source": [
    "print(binary_search(unsorted, 0, len(unsorted)-1, 296))"
   ]
  },
  {
   "cell_type": "code",
   "execution_count": null,
   "metadata": {},
   "outputs": [],
   "source": []
  }
 ],
 "metadata": {
  "kernelspec": {
   "display_name": "Python 3",
   "language": "python",
   "name": "python3"
  },
  "language_info": {
   "codemirror_mode": {
    "name": "ipython",
    "version": 3
   },
   "file_extension": ".py",
   "mimetype": "text/x-python",
   "name": "python",
   "nbconvert_exporter": "python",
   "pygments_lexer": "ipython3",
   "version": "3.7.3"
  }
 },
 "nbformat": 4,
 "nbformat_minor": 2
}
