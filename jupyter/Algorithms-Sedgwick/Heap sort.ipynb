{
 "cells": [
  {
   "cell_type": "code",
   "execution_count": 142,
   "metadata": {},
   "outputs": [],
   "source": [
    "import random\n",
    "import math\n",
    "NUM_ENTRIES = 25\n",
    "def get_random_array(N=NUM_ENTRIES):\n",
    "    return [random.randint(0,1023) for i in range(NUM_ENTRIES)]\n",
    "\n",
    "class Heapsort:\n",
    "    def __init__(self, array):\n",
    "        self.array = array\n",
    "\n",
    "    def heapify(self):\n",
    "        for i in range(1, len(self.array)):\n",
    "            self.add(i)\n",
    "        \n",
    "    def delete(self, i):\n",
    "        self.swap(i, 0)\n",
    "        parent = 0\n",
    "        child = 0\n",
    "        #while parent <= math.log(i, 2) +2:\n",
    "        while True:\n",
    "            if(parent * 2 + 2 >= i): #i-1\n",
    "                return\n",
    "            if(self.array[parent*2 + 1] >= self.array[parent*2+2]):\n",
    "                child = parent*2 + 1\n",
    "            else:\n",
    "                child = parent * 2 + 2\n",
    "                \n",
    "            if(child >= i): #i-1\n",
    "                return\n",
    "            \n",
    "            if (self.array[child] > self.array[parent]):\n",
    "                self.swap(parent, child)\n",
    "                parent = child\n",
    "                \n",
    "            else:\n",
    "                #print(\"closes\")\n",
    "                return\n",
    "            \n",
    "    def swap(self, index_one, index_two):\n",
    "        temp = self.array[index_one]\n",
    "        self.array[index_one] = self.array[index_two]\n",
    "        self.array[index_two] = temp\n",
    "        \n",
    "    def add(self, i):\n",
    "        parent = (i-1)//2\n",
    "        while parent >= 0:\n",
    "            if(parent*2 +1 > len(self.array)-1):\n",
    "                return\n",
    "            elif(parent*2+2 > len(self.array)-1):\n",
    "                return\n",
    "            if(self.array[parent*2 +1] > self.array[parent*2+2]):\n",
    "                child = parent*2 + 1\n",
    "            else:\n",
    "                child = parent * 2 + 2\n",
    "            if(parent*2 +1 > len(self.array)-1):\n",
    "                return\n",
    "            elif(parent*2+2 > len(self.array)-1):\n",
    "                return\n",
    "            \n",
    "            if(parent*2 + 1 >= i):\n",
    "                if(parent * 2 + 2 >= i):\n",
    "                    return\n",
    "                else:\n",
    "                    child = parent * 2 + 1\n",
    "            if(parent*2 +1 > len(self.array)-1):\n",
    "                return\n",
    "            elif(parent*2+2 > len(self.array)-1):\n",
    "                return\n",
    "            \n",
    "            #print(\"parent is \" + str(parent) + \" child is \" + str(child))\n",
    "            if(self.array[parent] < self.array[child]):\n",
    "                \n",
    "                self.swap(child, parent)\n",
    "                #print(\"swap done\")\n",
    "                child = parent\n",
    "                parent = (child-1)//2\n",
    "            else:\n",
    "                return\n",
    "            #bigger_child = max(self.array[parent*2 + 1], self.array(parent*2+2))\n",
    "        \n",
    "    def sort(self):\n",
    "        self.heapify()\n",
    "        for i in range(len(self.array) -1, 0, -1):\n",
    "            self.delete(i)\n",
    "            #print(self.array)\n",
    "        if (self.array[0] > self.array[1]):\n",
    "            self.swap(0,1)\n",
    "\n",
    "\n"
   ]
  },
  {
   "cell_type": "code",
   "execution_count": 143,
   "metadata": {},
   "outputs": [
    {
     "name": "stdout",
     "output_type": "stream",
     "text": [
      "[216, 695, 817, 502, 139, 875, 753, 620, 634, 36, 642, 252, 4, 963, 67, 763, 365, 458, 798, 224, 337, 940, 402, 15, 859]\n",
      "OUTPUT\n",
      "[4, 15, 36, 67, 139, 216, 224, 252, 337, 365, 402, 458, 502, 620, 634, 642, 695, 753, 763, 798, 817, 859, 875, 940, 963]\n"
     ]
    }
   ],
   "source": [
    "unshuffled = get_random_array()\n",
    "print(unshuffled)\n",
    "hs = Heapsort(unshuffled)\n",
    "hs.sort()\n",
    "print(\"OUTPUT\")\n",
    "print(unshuffled)"
   ]
  },
  {
   "cell_type": "code",
   "execution_count": 144,
   "metadata": {},
   "outputs": [
    {
     "name": "stdout",
     "output_type": "stream",
     "text": [
      "[4, 15, 36, 67, 139, 216, 224, 252, 337, 365, 402, 458, 502, 620, 634, 642, 695, 753, 763, 798, 817, 859, 875, 940, 963]\n"
     ]
    }
   ],
   "source": [
    "print(unshuffled)"
   ]
  },
  {
   "cell_type": "code",
   "execution_count": null,
   "metadata": {},
   "outputs": [],
   "source": []
  }
 ],
 "metadata": {
  "kernelspec": {
   "display_name": "Python 3",
   "language": "python",
   "name": "python3"
  },
  "language_info": {
   "codemirror_mode": {
    "name": "ipython",
    "version": 3
   },
   "file_extension": ".py",
   "mimetype": "text/x-python",
   "name": "python",
   "nbconvert_exporter": "python",
   "pygments_lexer": "ipython3",
   "version": "3.7.3"
  }
 },
 "nbformat": 4,
 "nbformat_minor": 2
}
