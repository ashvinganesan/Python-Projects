{
 "cells": [
  {
   "cell_type": "code",
   "execution_count": 261,
   "metadata": {},
   "outputs": [
    {
     "data": {
      "text/plain": [
       "[79, 24, 53, 52, 32, 48, 57, 18, 50, 50, 46, 63, 46, 26, 24, 76]"
      ]
     },
     "execution_count": 261,
     "metadata": {},
     "output_type": "execute_result"
    }
   ],
   "source": [
    "import random\n",
    "unsorted = [random.randint(0, 100) for x in range(0,16)] \n",
    "unsorted"
   ]
  },
  {
   "cell_type": "code",
   "execution_count": 262,
   "metadata": {},
   "outputs": [],
   "source": [
    "def quick_sort(a):\n",
    "    knuth_shuffle(a)\n",
    "    print(a)\n",
    "    Quick_sort(a,0, len(a)-1)\n",
    "def swap(a, x, y):\n",
    "    k = a[x]\n",
    "    a[x] = a[y]\n",
    "    a[y] = k\n",
    "def knuth_shuffle(a):\n",
    "    for i in range(0, len(a)-1):\n",
    "        random_numb  = random.randint(0,i)\n",
    "        swap(a, i, random_numb)\n",
    "        \n",
    "def Quick_sort(a, p, r):\n",
    "    if p < r:\n",
    "        q = Partition(a,p,r)\n",
    "        Quick_sort(a,p, q)\n",
    "        Quick_sort(a, q+1, r)\n",
    "\n",
    "def Partition(a, p, r):\n",
    "    x = a[p]\n",
    "    i = p #-1\n",
    "    j = r #+1\n",
    "    while(True):\n",
    "        #j = j-1\n",
    "        while(a[j] <= x): # before <=\n",
    "            #i = i + 1\n",
    "            if (a[i] >= x):\n",
    "                if(i < j):\n",
    "                    k = a[i]\n",
    "                    a[i] = a[j]\n",
    "                    a[j] = k\n",
    "                    j = j-1\n",
    "                else:\n",
    "                    return j\n",
    "            i = i + 1\n",
    "        j = j-1   "
   ]
  },
  {
   "cell_type": "code",
   "execution_count": 263,
   "metadata": {},
   "outputs": [
    {
     "name": "stdout",
     "output_type": "stream",
     "text": [
      "[32, 63, 46, 57, 24, 48, 79, 52, 26, 50, 53, 50, 24, 18, 46, 76]\n"
     ]
    }
   ],
   "source": [
    "quick_sort(unsorted)"
   ]
  },
  {
   "cell_type": "code",
   "execution_count": 264,
   "metadata": {},
   "outputs": [
    {
     "data": {
      "text/plain": [
       "[18, 24, 24, 26, 32, 46, 46, 48, 50, 50, 52, 53, 57, 63, 76, 79]"
      ]
     },
     "execution_count": 264,
     "metadata": {},
     "output_type": "execute_result"
    }
   ],
   "source": [
    "unsorted"
   ]
  },
  {
   "cell_type": "code",
   "execution_count": null,
   "metadata": {},
   "outputs": [],
   "source": []
  },
  {
   "cell_type": "code",
   "execution_count": null,
   "metadata": {},
   "outputs": [],
   "source": []
  }
 ],
 "metadata": {
  "kernelspec": {
   "display_name": "Python 3",
   "language": "python",
   "name": "python3"
  },
  "language_info": {
   "codemirror_mode": {
    "name": "ipython",
    "version": 3
   },
   "file_extension": ".py",
   "mimetype": "text/x-python",
   "name": "python",
   "nbconvert_exporter": "python",
   "pygments_lexer": "ipython3",
   "version": "3.7.3"
  }
 },
 "nbformat": 4,
 "nbformat_minor": 2
}
