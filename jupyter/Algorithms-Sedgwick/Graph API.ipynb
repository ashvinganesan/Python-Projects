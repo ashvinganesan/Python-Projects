{
 "cells": [
  {
   "cell_type": "code",
   "execution_count": 32,
   "metadata": {},
   "outputs": [],
   "source": [
    "class Graph():\n",
    "    def __init__(self, v):\n",
    "        self.nodes = [[] for i in range(v)]\n",
    "    def num_vertices(self):\n",
    "        return len(self.nodes)\n",
    " \n",
    "    def num_edges(self):\n",
    "        pass\n",
    "    def add_edge(self, v1, v2):\n",
    "        if (v1 < 0 or v2 < 0):\n",
    "            return\n",
    "        if (v1 >= len(self.nodes) or v2 >= len(self.nodes)):\n",
    "            return\n",
    "        self.nodes[v1].append(v2)\n",
    "        self.nodes[v2].append(v1)\n",
    "        self.nodes[v1].sort()\n",
    "        self.nodes[v2].sort()\n",
    "\n",
    "    def adjacent(self, v):\n",
    "        return self.nodes[v]\n",
    "    def __str__(self):\n",
    "        return \"\"\n",
    "    \n",
    "    "
   ]
  },
  {
   "cell_type": "code",
   "execution_count": 33,
   "metadata": {},
   "outputs": [
    {
     "name": "stdout",
     "output_type": "stream",
     "text": [
      "9\n",
      "[0, 2]\n"
     ]
    }
   ],
   "source": [
    "g = Graph(9)\n",
    "for x in range (0, 7):\n",
    "    g.add_edge(x,x+1)\n",
    "g.add_edge(8,0)\n",
    "print(g.num_vertices())\n",
    "print(g.adjacent(1))\n",
    "#print(str(g))"
   ]
  },
  {
   "cell_type": "code",
   "execution_count": null,
   "metadata": {},
   "outputs": [],
   "source": []
  }
 ],
 "metadata": {
  "kernelspec": {
   "display_name": "Python 3",
   "language": "python",
   "name": "python3"
  },
  "language_info": {
   "codemirror_mode": {
    "name": "ipython",
    "version": 3
   },
   "file_extension": ".py",
   "mimetype": "text/x-python",
   "name": "python",
   "nbconvert_exporter": "python",
   "pygments_lexer": "ipython3",
   "version": "3.7.3"
  }
 },
 "nbformat": 4,
 "nbformat_minor": 2
}
